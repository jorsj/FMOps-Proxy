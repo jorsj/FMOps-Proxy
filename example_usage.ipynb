{
 "cells": [
  {
   "cell_type": "code",
   "execution_count": 1,
   "metadata": {},
   "outputs": [
    {
     "data": {
      "text/plain": [
       "'1.70.0'"
      ]
     },
     "execution_count": 1,
     "metadata": {},
     "output_type": "execute_result"
    }
   ],
   "source": [
    "import vertexai\n",
    "\n",
    "vertexai.__version__"
   ]
  },
  {
   "cell_type": "code",
   "execution_count": 3,
   "metadata": {},
   "outputs": [
    {
     "name": "stdout",
     "output_type": "stream",
     "text": [
      "{'at_hash': '5vP1wOJ9PxfeYIc5lGvpkA',\n",
      " 'aud': '764086051850-6qr4p6gpi6hn506pt8ejuq83di341hur.apps.googleusercontent.com',\n",
      " 'azp': '764086051850-6qr4p6gpi6hn506pt8ejuq83di341hur.apps.googleusercontent.com',\n",
      " 'email': 'jasj@google.com',\n",
      " 'email_verified': True,\n",
      " 'exp': 1722538326,\n",
      " 'hd': 'google.com',\n",
      " 'iat': 1722534726,\n",
      " 'iss': 'https://accounts.google.com',\n",
      " 'sub': '114635912651031822890'}\n"
     ]
    }
   ],
   "source": [
    "from pprint import pprint\n",
    "\n",
    "import google.auth  # Import the google.auth library for authentication\n",
    "from google.auth.transport import (\n",
    "    requests,\n",
    ")\n",
    "from google.oauth2 import id_token  # Import the id_token module for verifying ID tokens\n",
    "\n",
    "# Obtain default Google Cloud credentials, including the project ID\n",
    "credentials, project_id = google.auth.default()\n",
    "\n",
    "# Check if the credentials are expired\n",
    "if credentials.expired:\n",
    "    # Refresh the credentials to obtain a new access token\n",
    "    credentials.refresh(requests.Request())\n",
    "\n",
    "# Extract the ID token from the credentials\n",
    "token = credentials.id_token\n",
    "# Create a request object (required for token verification)\n",
    "request = requests.Request()\n",
    "# Verify the ID token and extract user information\n",
    "id_info = id_token.verify_oauth2_token(token, request)\n",
    "# Get the user ID from the verified token information\n",
    "userid = id_info[\"sub\"]\n",
    "\n",
    "# Print the verified ID token information (for debugging/demonstration)\n",
    "pprint(id_info)"
   ]
  },
  {
   "cell_type": "code",
   "execution_count": 4,
   "metadata": {},
   "outputs": [],
   "source": [
    "import vertexai\n",
    "from vertexai.preview.generative_models import GenerativeModel\n",
    "\n",
    "vertexai.init(\n",
    "    project=\"sandcastle-401718\",\n",
    "    location=\"us-central1\",\n",
    "    api_endpoint=\"https://fmops-4i7bpthe5q-uc.a.run.app/vertexai\",\n",
    "    api_transport=\"rest\",\n",
    "    request_metadata=[(\"X-Serverless-Authorization\", f\"Bearer {token}\")],\n",
    ")\n",
    "\n",
    "model = GenerativeModel(model_name=\"gemini-1.5-pro\")"
   ]
  },
  {
   "cell_type": "code",
   "execution_count": 5,
   "metadata": {},
   "outputs": [
    {
     "name": "stdout",
     "output_type": "stream",
     "text": [
      "candidates {\n",
      "  content {\n",
      "    role: \"model\"\n",
      "    parts {\n",
      "      text: \"¡Hola! 👋  ¿Cómo estás? ¿En qué puedo ayudarte hoy? 😄 \\n\"\n",
      "    }\n",
      "  }\n",
      "  finish_reason: STOP\n",
      "  safety_ratings {\n",
      "    category: HARM_CATEGORY_HATE_SPEECH\n",
      "    probability: NEGLIGIBLE\n",
      "    probability_score: 0.0534667969\n",
      "    severity: HARM_SEVERITY_NEGLIGIBLE\n",
      "    severity_score: 0.0402832031\n",
      "  }\n",
      "  safety_ratings {\n",
      "    category: HARM_CATEGORY_DANGEROUS_CONTENT\n",
      "    probability: NEGLIGIBLE\n",
      "    probability_score: 0.0727539062\n",
      "    severity: HARM_SEVERITY_NEGLIGIBLE\n",
      "    severity_score: 0.0593261719\n",
      "  }\n",
      "  safety_ratings {\n",
      "    category: HARM_CATEGORY_HARASSMENT\n",
      "    probability: NEGLIGIBLE\n",
      "    probability_score: 0.0756835938\n",
      "    severity: HARM_SEVERITY_NEGLIGIBLE\n",
      "    severity_score: 0.0244140625\n",
      "  }\n",
      "  safety_ratings {\n",
      "    category: HARM_CATEGORY_SEXUALLY_EXPLICIT\n",
      "    probability: NEGLIGIBLE\n",
      "    probability_score: 0.169921875\n",
      "    severity: HARM_SEVERITY_NEGLIGIBLE\n",
      "    severity_score: 0.0495605469\n",
      "  }\n",
      "}\n",
      "usage_metadata {\n",
      "  prompt_token_count: 1\n",
      "  candidates_token_count: 19\n",
      "  total_token_count: 20\n",
      "}\n",
      "\n"
     ]
    }
   ],
   "source": [
    "response = model.generate_content(\"hola\")\n",
    "pprint(response)"
   ]
  }
 ],
 "metadata": {
  "kernelspec": {
   "display_name": "env",
   "language": "python",
   "name": "python3"
  },
  "language_info": {
   "codemirror_mode": {
    "name": "ipython",
    "version": 3
   },
   "file_extension": ".py",
   "mimetype": "text/x-python",
   "name": "python",
   "nbconvert_exporter": "python",
   "pygments_lexer": "ipython3",
   "version": "3.12.3"
  }
 },
 "nbformat": 4,
 "nbformat_minor": 2
}
